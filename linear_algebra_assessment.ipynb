{
 "cells": [
  {
   "cell_type": "markdown",
   "metadata": {},
   "source": [
    "# Assessment"
   ]
  },
  {
   "cell_type": "code",
   "execution_count": 110,
   "metadata": {},
   "outputs": [],
   "source": [
    "def mean_center(lst1):\n",
    "    \n",
    "    # calculate mean of the existing list\n",
    "    mean = float((sum(lst1) / len(lst1)))\n",
    "    \n",
    "    # initialize an empty list\n",
    "    new_list = []\n",
    "    \n",
    "    # subtract each item in the existing list from the mean\n",
    "    # append to the new list\n",
    "    for i in lst1:\n",
    "        new_item = (i - mean)\n",
    "        new_list.append(new_item)\n",
    "    \n",
    "    return print(\"mean centered:{}\".format(new_list))"
   ]
  },
  {
   "cell_type": "code",
   "execution_count": 111,
   "metadata": {},
   "outputs": [],
   "source": [
    "def dot_product(lst1, lst2):\n",
    "    \n",
    "    # create a zipped version of the two input lists\n",
    "    zipped = zip(lst1, lst2)\n",
    "    zipped_list = list(zipped)\n",
    "    \n",
    "    # return the sum of the zipped list products\n",
    "    return print(\"dot product = {}\".format(sum([x*y for (x, y) in zipped_list])))"
   ]
  },
  {
   "cell_type": "code",
   "execution_count": 112,
   "metadata": {},
   "outputs": [
    {
     "name": "stdout",
     "output_type": "stream",
     "text": [
      "mean centered:[-2.0, -1.0, 0.0, 1.0, 2.0]\n",
      "dot product = 258\n"
     ]
    }
   ],
   "source": [
    "list1 = [1, 2, 3, 4, 5]\n",
    "list2 = [2, 4, 8, 16, 32]\n",
    "\n",
    "mean_center(list1)\n",
    "dot_product(list1, list2)"
   ]
  },
  {
   "cell_type": "markdown",
   "metadata": {},
   "source": [
    "# Standard Deviation Formula\n",
    "![](images/standard-deviation.png)"
   ]
  },
  {
   "cell_type": "code",
   "execution_count": 72,
   "metadata": {},
   "outputs": [],
   "source": [
    "def standard_deviation(lst1):\n",
    "    \n",
    "    # calculate mean of the existing list\n",
    "    mean = (sum(lst1) / len(lst1))\n",
    "    \n",
    "    # calculates the variance of the population by taking the mean of the (x-x_mu)^2 values\n",
    "    variance = (sum([(x - mean) ** 2 for x in lst1])) / (len(lst1))\n",
    "    \n",
    "    # takes the square root of the variance to find the std. dev\n",
    "    standard_deviation = variance ** 0.5\n",
    "    \n",
    "    return standard_deviation"
   ]
  },
  {
   "cell_type": "code",
   "execution_count": 116,
   "metadata": {},
   "outputs": [
    {
     "data": {
      "text/plain": [
       "3906.8974"
      ]
     },
     "execution_count": 116,
     "metadata": {},
     "output_type": "execute_result"
    }
   ],
   "source": [
    "list3 = [1, 10, 100, 1000, 10000]\n",
    "\n",
    "round(standard_deviation(list3), 4)"
   ]
  },
  {
   "cell_type": "markdown",
   "metadata": {},
   "source": [
    "# Covariance Formula\n",
    "![](images/covariance.png)"
   ]
  },
  {
   "cell_type": "code",
   "execution_count": 74,
   "metadata": {},
   "outputs": [],
   "source": [
    "def covariance(lst1, lst2):\n",
    "    \n",
    "    # calculate the x mean of existing lst1\n",
    "    x_mu = (sum(lst1) / len(lst1))\n",
    "    \n",
    "    # calculate the y mean of existing lst2\n",
    "    y_mu = (sum(lst2) / len(lst2))\n",
    "    \n",
    "    # create a zipped version of the two input lists\n",
    "    zipped = zip(lst1, lst2)\n",
    "    zipped_list = list(zipped)\n",
    "    \n",
    "    cov = sum((x - x_mu) * (y - y_mu) for (x, y) in zipped_list) / len(lst1)\n",
    "    \n",
    "    return cov\n",
    "    "
   ]
  },
  {
   "cell_type": "code",
   "execution_count": 75,
   "metadata": {},
   "outputs": [
    {
     "data": {
      "text/plain": [
       "14.4"
      ]
     },
     "execution_count": 75,
     "metadata": {},
     "output_type": "execute_result"
    }
   ],
   "source": [
    "covariance(list1,list2)"
   ]
  },
  {
   "cell_type": "markdown",
   "metadata": {},
   "source": [
    "# Correlation Formula\n",
    "![](images/correlation.png)"
   ]
  },
  {
   "cell_type": "code",
   "execution_count": 99,
   "metadata": {},
   "outputs": [],
   "source": [
    "def correlation(lst1, lst2):\n",
    "    \n",
    "    # employs two previous functions to calculate correlation\n",
    "    corr = (covariance(lst1, lst2)) / ((standard_deviation(lst1)) * standard_deviation(lst2))\n",
    "    \n",
    "    return print(\"correlation = {:0.4f}\".format(corr))"
   ]
  },
  {
   "cell_type": "code",
   "execution_count": 100,
   "metadata": {},
   "outputs": [
    {
     "name": "stdout",
     "output_type": "stream",
     "text": [
      "correlation = 0.9333\n"
     ]
    }
   ],
   "source": [
    "correlation(list1, list2)"
   ]
  },
  {
   "cell_type": "markdown",
   "metadata": {},
   "source": [
    "# RMSE Formula\n",
    "![](images/rmse.png)"
   ]
  },
  {
   "cell_type": "code",
   "execution_count": 93,
   "metadata": {},
   "outputs": [],
   "source": [
    "def rmse(ytrue, ypred):\n",
    "    import numpy as np\n",
    "    \n",
    "    # finds the difference between y-pred and y-true and squares the values\n",
    "    diff = np.array(ypred) - np.array(ytrue)\n",
    "    diff_sq = diff ** 2\n",
    "\n",
    "    # calculate the mean of squared differences\n",
    "    diff_sq_mean = sum(diff_sq) / len(diff_sq)\n",
    "\n",
    "    # finds rmse by taking the square root of the mean of the squared differences\n",
    "    rmse = np.sqrt(diff_sq_mean)\n",
    "\n",
    "    return print(\"RMSE = {:0.4f}\".format(rmse))    "
   ]
  },
  {
   "cell_type": "code",
   "execution_count": 94,
   "metadata": {},
   "outputs": [
    {
     "name": "stdout",
     "output_type": "stream",
     "text": [
      "RMSE = 13.4387\n"
     ]
    }
   ],
   "source": [
    "rmse(list1, list2)"
   ]
  },
  {
   "cell_type": "markdown",
   "metadata": {},
   "source": [
    "# RSS Formula \n",
    "![](images/rss.png)"
   ]
  },
  {
   "cell_type": "code",
   "execution_count": 87,
   "metadata": {},
   "outputs": [],
   "source": [
    "def rss(ytrue, ypred):\n",
    "    import numpy as np\n",
    "    \n",
    "    rss = sum((np.array(ytrue) - np.array(ypred)) ** 2)\n",
    "\n",
    "    return print(\"RSS = {}\".format(rss))"
   ]
  },
  {
   "cell_type": "code",
   "execution_count": 88,
   "metadata": {},
   "outputs": [
    {
     "name": "stdout",
     "output_type": "stream",
     "text": [
      "RSS = 903\n"
     ]
    }
   ],
   "source": [
    "rss(list1, list2)"
   ]
  },
  {
   "cell_type": "code",
   "execution_count": null,
   "metadata": {},
   "outputs": [],
   "source": []
  }
 ],
 "metadata": {
  "kernelspec": {
   "display_name": "Python 3",
   "language": "python",
   "name": "python3"
  },
  "language_info": {
   "codemirror_mode": {
    "name": "ipython",
    "version": 3
   },
   "file_extension": ".py",
   "mimetype": "text/x-python",
   "name": "python",
   "nbconvert_exporter": "python",
   "pygments_lexer": "ipython3",
   "version": "3.8.3"
  }
 },
 "nbformat": 4,
 "nbformat_minor": 4
}
